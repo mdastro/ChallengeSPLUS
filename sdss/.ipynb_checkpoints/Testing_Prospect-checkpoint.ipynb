{
 "cells": [
  {
   "cell_type": "code",
   "execution_count": 26,
   "metadata": {},
   "outputs": [
    {
     "name": "stderr",
     "output_type": "stream",
     "text": [
      "Warning message:\n",
      "“package ‘magicaxis’ was built under R version 3.6.3”"
     ]
    }
   ],
   "source": [
    "library(ProSpect)\n",
    "library(magicaxis)"
   ]
  },
  {
   "cell_type": "code",
   "execution_count": 18,
   "metadata": {},
   "outputs": [],
   "source": [
    "data(\"BC03lr\")       #BC03 spectral library\n",
    "data(\"Dale_NormTot\") #Normalised Dale templates\n",
    "data(\"pivwave\")      # Pivot/effective wavelengths"
   ]
  },
  {
   "cell_type": "code",
   "execution_count": 4,
   "metadata": {},
   "outputs": [],
   "source": [
    "GAMA_filters = c('FUV_GALEX', 'NUV_GALEX', 'u_SDSS', 'g_SDSS', 'r_SDSS', 'i_SDSS', 'Z_VISTA', 'Y_VISTA', \n",
    "                 'J_VISTA', 'H_VISTA', 'K_VISTA', 'W1_WISE', 'W2_WISE', 'W3_WISE', 'W4_WISE', 'P100_Herschel', \n",
    "                 'P160_Herschel', 'S250_Herschel', 'S350_Herschel', 'S500_Herschel')"
   ]
  },
  {
   "cell_type": "code",
   "execution_count": 10,
   "metadata": {},
   "outputs": [],
   "source": [
    "quench = ProSpectSED(massfunc=massfunc_p4, m1=-20, m2=1, m3=1, m4=1, agemax=1e10, forcemass=1e10, \n",
    "                     filters=GAMA_filters)"
   ]
  },
  {
   "cell_type": "code",
   "execution_count": 22,
   "metadata": {},
   "outputs": [
    {
     "ename": "ERROR",
     "evalue": "Error in parse(text = x, srcfile = src): <text>:1:43: '$' inesperado\n1: magplot(quench$Stars$agevec, quench$Stars-$\n                                              ^\n",
     "output_type": "error",
     "traceback": [
      "Error in parse(text = x, srcfile = src): <text>:1:43: '$' inesperado\n1: magplot(quench$Stars$agevec, quench$Stars-$\n                                              ^\nTraceback:\n"
     ]
    }
   ],
   "source": [
    "magplot(quench$Stars$agevec, quench$Stars-$SFR,xlim=c(0,1e10), type='l', grid=TRUE, xlab = 'Age (Yrs)}',\n",
    "        ylab ='SFR (Msol / Yr)')"
   ]
  },
  {
   "cell_type": "code",
   "execution_count": 25,
   "metadata": {},
   "outputs": [
    {
     "ename": "ERROR",
     "evalue": "Error in magplot(quench$FinalFlux, log = \"xy\", type = \"l\", grid = TRUE, : não foi possível encontrar a função \"magplot\"\n",
     "output_type": "error",
     "traceback": [
      "Error in magplot(quench$FinalFlux, log = \"xy\", type = \"l\", grid = TRUE, : não foi possível encontrar a função \"magplot\"\nTraceback:\n"
     ]
    }
   ],
   "source": [
    "magplot(quench$FinalFlux, log='xy', type='l', grid = TRUE, xlim=c(1e3,1e7), ylim = c(1e-8,1e-2), \n",
    "        xlab='Wavelength (Ang)', ylab = 'Flux Density (Jky)') \n",
    "\n",
    "points(piv_GAMA,quench$Photom, col = 'red')"
   ]
  },
  {
   "cell_type": "code",
   "execution_count": null,
   "metadata": {},
   "outputs": [],
   "source": []
  }
 ],
 "metadata": {
  "kernelspec": {
   "display_name": "R",
   "language": "R",
   "name": "ir"
  },
  "language_info": {
   "codemirror_mode": "r",
   "file_extension": ".r",
   "mimetype": "text/x-r-source",
   "name": "R",
   "pygments_lexer": "r",
   "version": "3.6.1"
  }
 },
 "nbformat": 4,
 "nbformat_minor": 4
}
