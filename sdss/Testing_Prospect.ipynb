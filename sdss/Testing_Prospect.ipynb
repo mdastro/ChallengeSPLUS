{
 "cells": [
  {
   "cell_type": "code",
   "execution_count": 1,
   "metadata": {},
   "outputs": [
    {
     "name": "stderr",
     "output_type": "stream",
     "text": [
      "Registered S3 methods overwritten by 'ggplot2':\n",
      "  method         from \n",
      "  [.quosures     rlang\n",
      "  c.quosures     rlang\n",
      "  print.quosures rlang\n",
      "Registered S3 method overwritten by 'rvest':\n",
      "  method            from\n",
      "  read_xml.response xml2\n",
      "── Attaching packages ─────────────────────────────────────── tidyverse 1.2.1 ──\n",
      "✔ ggplot2 3.1.1       ✔ purrr   0.3.4  \n",
      "✔ tibble  3.0.4       ✔ dplyr   0.8.0.1\n",
      "✔ tidyr   0.8.3       ✔ stringr 1.4.0  \n",
      "✔ readr   1.3.1       ✔ forcats 0.4.0  \n",
      "── Conflicts ────────────────────────────────────────── tidyverse_conflicts() ──\n",
      "✖ dplyr::filter() masks stats::filter()\n",
      "✖ dplyr::lag()    masks stats::lag()\n"
     ]
    }
   ],
   "source": [
    "library(ProSpect)\n",
    "library(tidyverse)"
   ]
  },
  {
   "cell_type": "code",
   "execution_count": 18,
   "metadata": {},
   "outputs": [],
   "source": [
    "stripe82 <- read.csv('../../Data/Stripe82_highs2n.csv')"
   ]
  },
  {
   "cell_type": "code",
   "execution_count": 19,
   "metadata": {},
   "outputs": [],
   "source": [
    "magnitudes <- stripe82 %>% select('mag_ab_u', 'mag_ab_g', 'mag_ab_r', 'mag_ab_i', 'mag_ab_z')"
   ]
  },
  {
   "cell_type": "code",
   "execution_count": 21,
   "metadata": {},
   "outputs": [],
   "source": [
    "redshift <- stripe82 %>% select('photoZ')"
   ]
  },
  {
   "cell_type": "code",
   "execution_count": 22,
   "metadata": {},
   "outputs": [
    {
     "name": "stdout",
     "output_type": "stream",
     "text": [
      "  mag_ab_u mag_ab_g mag_ab_r mag_ab_i mag_ab_z\n",
      "1 17.05098 15.75781 15.38941 15.26118  15.2184\n"
     ]
    }
   ],
   "source": [
    "print(magnitudes[1,1:5])"
   ]
  },
  {
   "cell_type": "code",
   "execution_count": 23,
   "metadata": {},
   "outputs": [],
   "source": [
    "data(\"EMILES\")        # BC03 spectral library\n",
    "data(\"Dale_NormTot\")  # Normalised Dale templates\n",
    "# data(\"pivwave\")       # Pivot/effective wavelengths"
   ]
  },
  {
   "cell_type": "code",
   "execution_count": 24,
   "metadata": {},
   "outputs": [],
   "source": [
    "filters = c('u_SDSS', 'g_SDSS', 'r_SDSS', 'i_SDSS', 'z_SDSS')"
   ]
  },
  {
   "cell_type": "code",
   "execution_count": 25,
   "metadata": {},
   "outputs": [],
   "source": [
    "piv_GAMA = pivwave['pivwave']"
   ]
  },
  {
   "cell_type": "code",
   "execution_count": 27,
   "metadata": {},
   "outputs": [
    {
     "data": {
      "text/html": [
       "<table>\n",
       "<thead><tr><th scope=col>filter</th><th scope=col>pivwave</th></tr></thead>\n",
       "<tbody>\n",
       "\t<tr><td>FUV_GALEX  </td><td>1535.080   </td></tr>\n",
       "\t<tr><td>NUV_GALEX  </td><td>2300.785   </td></tr>\n",
       "\t<tr><td>u_SDSS     </td><td>3567.001   </td></tr>\n",
       "\t<tr><td>u_VST      </td><td>3577.482   </td></tr>\n",
       "\t<tr><td>u_LSST     </td><td>3680.045   </td></tr>\n",
       "\t<tr><td>g_SDSS     </td><td>4734.851   </td></tr>\n",
       "\t<tr><td>g_VST      </td><td>4744.164   </td></tr>\n",
       "\t<tr><td>g_LSST     </td><td>4782.264   </td></tr>\n",
       "\t<tr><td>g_HSC      </td><td>4798.209   </td></tr>\n",
       "\t<tr><td>r_SDSS     </td><td>6194.748   </td></tr>\n",
       "\t<tr><td>r_HSC      </td><td>6214.305   </td></tr>\n",
       "\t<tr><td>r_LSST     </td><td>6217.817   </td></tr>\n",
       "\t<tr><td>R062_WFIRST</td><td>6308.463   </td></tr>\n",
       "\t<tr><td>r_VST      </td><td>6312.451   </td></tr>\n",
       "\t<tr><td>F070W_JWST </td><td>7043.217   </td></tr>\n",
       "\t<tr><td>VIS_Euclid </td><td>7103.369   </td></tr>\n",
       "\t<tr><td>i_SDSS     </td><td>7509.465   </td></tr>\n",
       "\t<tr><td>i_LSST     </td><td>7532.277   </td></tr>\n",
       "\t<tr><td>i_VST      </td><td>7584.157   </td></tr>\n",
       "\t<tr><td>i_HSC      </td><td>7723.685   </td></tr>\n",
       "\t<tr><td>Z087_WFIRST</td><td>8679.079   </td></tr>\n",
       "\t<tr><td>z_LSST     </td><td>8685.062   </td></tr>\n",
       "\t<tr><td>Z_UKIRT    </td><td>8826.343   </td></tr>\n",
       "\t<tr><td>Z_VISTA    </td><td>8833.013   </td></tr>\n",
       "\t<tr><td>z_VST      </td><td>8901.534   </td></tr>\n",
       "\t<tr><td>z_HSC      </td><td>8908.415   </td></tr>\n",
       "\t<tr><td>z_SDSS     </td><td>8976.788   </td></tr>\n",
       "\t<tr><td>F090W_JWST </td><td>9023.076   </td></tr>\n",
       "\t<tr><td>y_LSST     </td><td>9730.059   </td></tr>\n",
       "\t<tr><td>Y_HSC      </td><td>9774.896   </td></tr>\n",
       "\t<tr><td>...</td><td>...</td></tr>\n",
       "\t<tr><td>I1_Spitzer   </td><td>   35248.81  </td></tr>\n",
       "\t<tr><td>F356W_JWST   </td><td>   35683.82  </td></tr>\n",
       "\t<tr><td>F360M_JWST   </td><td>   36242.29  </td></tr>\n",
       "\t<tr><td>F405N_JWST   </td><td>   40517.23  </td></tr>\n",
       "\t<tr><td>F410M_JWST   </td><td>   40822.34  </td></tr>\n",
       "\t<tr><td>F430M_JWST   </td><td>   42812.00  </td></tr>\n",
       "\t<tr><td>F444W_JWST   </td><td>   44041.80  </td></tr>\n",
       "\t<tr><td>I2_Spitzer   </td><td>   44601.64  </td></tr>\n",
       "\t<tr><td>F460M_JWST   </td><td>   46296.45  </td></tr>\n",
       "\t<tr><td>W2_WISE      </td><td>   46406.42  </td></tr>\n",
       "\t<tr><td>F466N_JWST   </td><td>   46544.05  </td></tr>\n",
       "\t<tr><td>F470N_JWST   </td><td>   47077.37  </td></tr>\n",
       "\t<tr><td>F480M_JWST   </td><td>   48178.59  </td></tr>\n",
       "\t<tr><td>I3_Spitzer   </td><td>   56677.91  </td></tr>\n",
       "\t<tr><td>I4_Spitzer   </td><td>   77113.35  </td></tr>\n",
       "\t<tr><td>W3_WISE      </td><td>  125700.27  </td></tr>\n",
       "\t<tr><td>W4_WISE      </td><td>  223141.60  </td></tr>\n",
       "\t<tr><td>M24_Spitzer  </td><td>  234345.21  </td></tr>\n",
       "\t<tr><td>M70_Spitzer  </td><td>  698850.78  </td></tr>\n",
       "\t<tr><td>P70_Herschel </td><td>  700193.54  </td></tr>\n",
       "\t<tr><td>P100_Herschel</td><td>  983273.31  </td></tr>\n",
       "\t<tr><td>M160_Spitzer </td><td> 1542695.83  </td></tr>\n",
       "\t<tr><td>P160_Herschel</td><td> 1546806.34  </td></tr>\n",
       "\t<tr><td>S250_Herschel</td><td> 2482806.32  </td></tr>\n",
       "\t<tr><td>S350_Herschel</td><td> 3484355.14  </td></tr>\n",
       "\t<tr><td>S450_JCMT    </td><td> 4492651.84  </td></tr>\n",
       "\t<tr><td>S500_Herschel</td><td> 5004155.15  </td></tr>\n",
       "\t<tr><td>S850_JCMT    </td><td> 8605480.57  </td></tr>\n",
       "\t<tr><td>1mm_Aztec    </td><td>11168651.04  </td></tr>\n",
       "\t<tr><td>2mm_Gizmo    </td><td>19992623.44  </td></tr>\n",
       "</tbody>\n",
       "</table>\n"
      ],
      "text/latex": [
       "\\begin{tabular}{r|ll}\n",
       " filter & pivwave\\\\\n",
       "\\hline\n",
       "\t FUV\\_GALEX   & 1535.080     \\\\\n",
       "\t NUV\\_GALEX   & 2300.785     \\\\\n",
       "\t u\\_SDSS      & 3567.001     \\\\\n",
       "\t u\\_VST       & 3577.482     \\\\\n",
       "\t u\\_LSST      & 3680.045     \\\\\n",
       "\t g\\_SDSS      & 4734.851     \\\\\n",
       "\t g\\_VST       & 4744.164     \\\\\n",
       "\t g\\_LSST      & 4782.264     \\\\\n",
       "\t g\\_HSC       & 4798.209     \\\\\n",
       "\t r\\_SDSS      & 6194.748     \\\\\n",
       "\t r\\_HSC       & 6214.305     \\\\\n",
       "\t r\\_LSST      & 6217.817     \\\\\n",
       "\t R062\\_WFIRST & 6308.463     \\\\\n",
       "\t r\\_VST       & 6312.451     \\\\\n",
       "\t F070W\\_JWST  & 7043.217     \\\\\n",
       "\t VIS\\_Euclid  & 7103.369     \\\\\n",
       "\t i\\_SDSS      & 7509.465     \\\\\n",
       "\t i\\_LSST      & 7532.277     \\\\\n",
       "\t i\\_VST       & 7584.157     \\\\\n",
       "\t i\\_HSC       & 7723.685     \\\\\n",
       "\t Z087\\_WFIRST & 8679.079     \\\\\n",
       "\t z\\_LSST      & 8685.062     \\\\\n",
       "\t Z\\_UKIRT     & 8826.343     \\\\\n",
       "\t Z\\_VISTA     & 8833.013     \\\\\n",
       "\t z\\_VST       & 8901.534     \\\\\n",
       "\t z\\_HSC       & 8908.415     \\\\\n",
       "\t z\\_SDSS      & 8976.788     \\\\\n",
       "\t F090W\\_JWST  & 9023.076     \\\\\n",
       "\t y\\_LSST      & 9730.059     \\\\\n",
       "\t Y\\_HSC       & 9774.896     \\\\\n",
       "\t ... & ...\\\\\n",
       "\t I1\\_Spitzer    &    35248.81    \\\\\n",
       "\t F356W\\_JWST    &    35683.82    \\\\\n",
       "\t F360M\\_JWST    &    36242.29    \\\\\n",
       "\t F405N\\_JWST    &    40517.23    \\\\\n",
       "\t F410M\\_JWST    &    40822.34    \\\\\n",
       "\t F430M\\_JWST    &    42812.00    \\\\\n",
       "\t F444W\\_JWST    &    44041.80    \\\\\n",
       "\t I2\\_Spitzer    &    44601.64    \\\\\n",
       "\t F460M\\_JWST    &    46296.45    \\\\\n",
       "\t W2\\_WISE       &    46406.42    \\\\\n",
       "\t F466N\\_JWST    &    46544.05    \\\\\n",
       "\t F470N\\_JWST    &    47077.37    \\\\\n",
       "\t F480M\\_JWST    &    48178.59    \\\\\n",
       "\t I3\\_Spitzer    &    56677.91    \\\\\n",
       "\t I4\\_Spitzer    &    77113.35    \\\\\n",
       "\t W3\\_WISE       &   125700.27    \\\\\n",
       "\t W4\\_WISE       &   223141.60    \\\\\n",
       "\t M24\\_Spitzer   &   234345.21    \\\\\n",
       "\t M70\\_Spitzer   &   698850.78    \\\\\n",
       "\t P70\\_Herschel  &   700193.54    \\\\\n",
       "\t P100\\_Herschel &   983273.31    \\\\\n",
       "\t M160\\_Spitzer  &  1542695.83    \\\\\n",
       "\t P160\\_Herschel &  1546806.34    \\\\\n",
       "\t S250\\_Herschel &  2482806.32    \\\\\n",
       "\t S350\\_Herschel &  3484355.14    \\\\\n",
       "\t S450\\_JCMT     &  4492651.84    \\\\\n",
       "\t S500\\_Herschel &  5004155.15    \\\\\n",
       "\t S850\\_JCMT     &  8605480.57    \\\\\n",
       "\t 1mm\\_Aztec     & 11168651.04    \\\\\n",
       "\t 2mm\\_Gizmo     & 19992623.44    \\\\\n",
       "\\end{tabular}\n"
      ],
      "text/markdown": [
       "\n",
       "| filter | pivwave |\n",
       "|---|---|\n",
       "| FUV_GALEX   | 1535.080    |\n",
       "| NUV_GALEX   | 2300.785    |\n",
       "| u_SDSS      | 3567.001    |\n",
       "| u_VST       | 3577.482    |\n",
       "| u_LSST      | 3680.045    |\n",
       "| g_SDSS      | 4734.851    |\n",
       "| g_VST       | 4744.164    |\n",
       "| g_LSST      | 4782.264    |\n",
       "| g_HSC       | 4798.209    |\n",
       "| r_SDSS      | 6194.748    |\n",
       "| r_HSC       | 6214.305    |\n",
       "| r_LSST      | 6217.817    |\n",
       "| R062_WFIRST | 6308.463    |\n",
       "| r_VST       | 6312.451    |\n",
       "| F070W_JWST  | 7043.217    |\n",
       "| VIS_Euclid  | 7103.369    |\n",
       "| i_SDSS      | 7509.465    |\n",
       "| i_LSST      | 7532.277    |\n",
       "| i_VST       | 7584.157    |\n",
       "| i_HSC       | 7723.685    |\n",
       "| Z087_WFIRST | 8679.079    |\n",
       "| z_LSST      | 8685.062    |\n",
       "| Z_UKIRT     | 8826.343    |\n",
       "| Z_VISTA     | 8833.013    |\n",
       "| z_VST       | 8901.534    |\n",
       "| z_HSC       | 8908.415    |\n",
       "| z_SDSS      | 8976.788    |\n",
       "| F090W_JWST  | 9023.076    |\n",
       "| y_LSST      | 9730.059    |\n",
       "| Y_HSC       | 9774.896    |\n",
       "| ... | ... |\n",
       "| I1_Spitzer    |    35248.81   |\n",
       "| F356W_JWST    |    35683.82   |\n",
       "| F360M_JWST    |    36242.29   |\n",
       "| F405N_JWST    |    40517.23   |\n",
       "| F410M_JWST    |    40822.34   |\n",
       "| F430M_JWST    |    42812.00   |\n",
       "| F444W_JWST    |    44041.80   |\n",
       "| I2_Spitzer    |    44601.64   |\n",
       "| F460M_JWST    |    46296.45   |\n",
       "| W2_WISE       |    46406.42   |\n",
       "| F466N_JWST    |    46544.05   |\n",
       "| F470N_JWST    |    47077.37   |\n",
       "| F480M_JWST    |    48178.59   |\n",
       "| I3_Spitzer    |    56677.91   |\n",
       "| I4_Spitzer    |    77113.35   |\n",
       "| W3_WISE       |   125700.27   |\n",
       "| W4_WISE       |   223141.60   |\n",
       "| M24_Spitzer   |   234345.21   |\n",
       "| M70_Spitzer   |   698850.78   |\n",
       "| P70_Herschel  |   700193.54   |\n",
       "| P100_Herschel |   983273.31   |\n",
       "| M160_Spitzer  |  1542695.83   |\n",
       "| P160_Herschel |  1546806.34   |\n",
       "| S250_Herschel |  2482806.32   |\n",
       "| S350_Herschel |  3484355.14   |\n",
       "| S450_JCMT     |  4492651.84   |\n",
       "| S500_Herschel |  5004155.15   |\n",
       "| S850_JCMT     |  8605480.57   |\n",
       "| 1mm_Aztec     | 11168651.04   |\n",
       "| 2mm_Gizmo     | 19992623.44   |\n",
       "\n"
      ],
      "text/plain": [
       "    filter        pivwave    \n",
       "1   FUV_GALEX     1535.080   \n",
       "2   NUV_GALEX     2300.785   \n",
       "3   u_SDSS        3567.001   \n",
       "4   u_VST         3577.482   \n",
       "5   u_LSST        3680.045   \n",
       "6   g_SDSS        4734.851   \n",
       "7   g_VST         4744.164   \n",
       "8   g_LSST        4782.264   \n",
       "9   g_HSC         4798.209   \n",
       "10  r_SDSS        6194.748   \n",
       "11  r_HSC         6214.305   \n",
       "12  r_LSST        6217.817   \n",
       "13  R062_WFIRST   6308.463   \n",
       "14  r_VST         6312.451   \n",
       "15  F070W_JWST    7043.217   \n",
       "16  VIS_Euclid    7103.369   \n",
       "17  i_SDSS        7509.465   \n",
       "18  i_LSST        7532.277   \n",
       "19  i_VST         7584.157   \n",
       "20  i_HSC         7723.685   \n",
       "21  Z087_WFIRST   8679.079   \n",
       "22  z_LSST        8685.062   \n",
       "23  Z_UKIRT       8826.343   \n",
       "24  Z_VISTA       8833.013   \n",
       "25  z_VST         8901.534   \n",
       "26  z_HSC         8908.415   \n",
       "27  z_SDSS        8976.788   \n",
       "28  F090W_JWST    9023.076   \n",
       "29  y_LSST        9730.059   \n",
       "30  Y_HSC         9774.896   \n",
       "... ...           ...        \n",
       "68  I1_Spitzer       35248.81\n",
       "69  F356W_JWST       35683.82\n",
       "70  F360M_JWST       36242.29\n",
       "71  F405N_JWST       40517.23\n",
       "72  F410M_JWST       40822.34\n",
       "73  F430M_JWST       42812.00\n",
       "74  F444W_JWST       44041.80\n",
       "75  I2_Spitzer       44601.64\n",
       "76  F460M_JWST       46296.45\n",
       "77  W2_WISE          46406.42\n",
       "78  F466N_JWST       46544.05\n",
       "79  F470N_JWST       47077.37\n",
       "80  F480M_JWST       48178.59\n",
       "81  I3_Spitzer       56677.91\n",
       "82  I4_Spitzer       77113.35\n",
       "83  W3_WISE         125700.27\n",
       "84  W4_WISE         223141.60\n",
       "85  M24_Spitzer     234345.21\n",
       "86  M70_Spitzer     698850.78\n",
       "87  P70_Herschel    700193.54\n",
       "88  P100_Herschel   983273.31\n",
       "89  M160_Spitzer   1542695.83\n",
       "90  P160_Herschel  1546806.34\n",
       "91  S250_Herschel  2482806.32\n",
       "92  S350_Herschel  3484355.14\n",
       "93  S450_JCMT      4492651.84\n",
       "94  S500_Herschel  5004155.15\n",
       "95  S850_JCMT      8605480.57\n",
       "96  1mm_Aztec     11168651.04\n",
       "97  2mm_Gizmo     19992623.44"
      ]
     },
     "metadata": {},
     "output_type": "display_data"
    }
   ],
   "source": [
    "pivwave"
   ]
  },
  {
   "cell_type": "code",
   "execution_count": null,
   "metadata": {},
   "outputs": [],
   "source": [
    "quench = ProSpectSED(massfunc=massfunc_p4, m1=-20, m2=1, m3=1, m4=1, agemax=1e10, forcemass=1e10, \n",
    "                     filters=GAMA_filters)"
   ]
  },
  {
   "cell_type": "code",
   "execution_count": null,
   "metadata": {},
   "outputs": [],
   "source": [
    "print(quench[2])"
   ]
  },
  {
   "cell_type": "code",
   "execution_count": null,
   "metadata": {},
   "outputs": [],
   "source": [
    "print(quench[8])"
   ]
  },
  {
   "cell_type": "code",
   "execution_count": null,
   "metadata": {},
   "outputs": [],
   "source": [
    "write.csv(quench[2], '../sdss/prospect_test.csv', row.names=FALSE)"
   ]
  },
  {
   "cell_type": "code",
   "execution_count": null,
   "metadata": {},
   "outputs": [],
   "source": [
    "# magplot(quench$Stars$agevec, $Stars-quench$SFR,xlim=c(0,1e10), type='l', grid=TRUE, xlab = 'Age (Yrs)}',\n",
    "#         ylab ='SFR (Msol / Yr)')"
   ]
  },
  {
   "cell_type": "code",
   "execution_count": null,
   "metadata": {},
   "outputs": [],
   "source": [
    "# magplot(quench$FinalFlux, log='xy', type='l', grid = TRUE, xlim=c(1e3,1e7), ylim = c(1e-8,1e-2), \n",
    "#         xlab='Wavelength (Ang)', ylab = '\n",
    "# r_SDSS ~ g_VST - 0.4504 +/Flux Density (Jky)') "
   ]
  },
  {
   "cell_type": "code",
   "execution_count": null,
   "metadata": {},
   "outputs": [],
   "source": [
    "# points(piv_GAMA, quench$Photom, col = 'red')"
   ]
  },
  {
   "cell_type": "code",
   "execution_count": null,
   "metadata": {},
   "outputs": [],
   "source": [
    "# piv_GAMA"
   ]
  },
  {
   "cell_type": "code",
   "execution_count": 2,
   "metadata": {},
   "outputs": [],
   "source": [
    "?ProSpectSED"
   ]
  },
  {
   "cell_type": "code",
   "execution_count": null,
   "metadata": {},
   "outputs": [],
   "source": []
  }
 ],
 "metadata": {
  "kernelspec": {
   "display_name": "R",
   "language": "R",
   "name": "ir"
  },
  "language_info": {
   "codemirror_mode": "r",
   "file_extension": ".r",
   "mimetype": "text/x-r-source",
   "name": "R",
   "pygments_lexer": "r",
   "version": "3.6.1"
  }
 },
 "nbformat": 4,
 "nbformat_minor": 4
}
